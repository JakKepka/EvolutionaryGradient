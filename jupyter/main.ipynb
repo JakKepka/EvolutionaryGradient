{
 "cells": [
  {
   "cell_type": "code",
   "execution_count": 1,
   "id": "cc183df9",
   "metadata": {},
   "outputs": [
    {
     "name": "stdout",
     "output_type": "stream",
     "text": [
      "/Users/kubak/Desktop/mini/sem1/EvolutionaryGradient\n"
     ]
    }
   ],
   "source": [
    "%cd ..\n"
   ]
  },
  {
   "cell_type": "code",
   "execution_count": 2,
   "id": "ba599f25",
   "metadata": {},
   "outputs": [],
   "source": [
    "from models.neural_network import SimpleNN\n",
    "from models.de import DifferentialEvolution\n",
    "from models.es import train_es\n",
    "from models.adam import train_with_adam\n",
    "from utils.data_loader import load_mnist\n",
    "from utils.metrics import evaluate_model\n"
   ]
  },
  {
   "cell_type": "markdown",
   "id": "30904fd8",
   "metadata": {},
   "source": [
    "### Load Datasets"
   ]
  },
  {
   "cell_type": "code",
   "execution_count": 3,
   "id": "30c978e1",
   "metadata": {},
   "outputs": [],
   "source": [
    "import matplotlib.pyplot as plt"
   ]
  },
  {
   "cell_type": "code",
   "execution_count": 4,
   "id": "aeddd63e",
   "metadata": {},
   "outputs": [],
   "source": [
    "# Załaduj dane\n",
    "train_loader, valid_loader, test_loader, input_size, output_size = load_mnist(batch_size=64, valid_size=0.1)\n"
   ]
  },
  {
   "cell_type": "code",
   "execution_count": 5,
   "id": "75c7f507",
   "metadata": {},
   "outputs": [],
   "source": [
    "# Pobierz jedną paczkę danych\n",
    "images, labels = next(iter(train_loader))"
   ]
  },
  {
   "cell_type": "code",
   "execution_count": 6,
   "id": "f93c6dec",
   "metadata": {},
   "outputs": [
    {
     "name": "stdout",
     "output_type": "stream",
     "text": [
      "torch.Size([1, 28, 28])\n",
      "torch.Size([1, 28, 28])\n",
      "torch.Size([1, 28, 28])\n",
      "torch.Size([1, 28, 28])\n",
      "torch.Size([1, 28, 28])\n",
      "torch.Size([1, 28, 28])\n"
     ]
    },
    {
     "data": {
      "image/png": "[encoded data removed]",
      "text/plain": [
       "<Figure size 640x480 with 6 Axes>"
      ]
     },
     "metadata": {},
     "output_type": "display_data"
    }
   ],
   "source": [
    "# Wyświetl pierwsze 6 obrazów z etykietami\n",
    "for i in range(6):\n",
    "    plt.subplot(2, 3, i + 1)\n",
    "    plt.imshow(images[i][0], cmap='gray')\n",
    "    print(images[i].shape)\n",
    "    plt.title(f'Etykieta: {labels[i].item()}')\n",
    "    plt.axis('off')\n",
    "    \n",
    "plt.tight_layout()\n",
    "plt.show()\n"
   ]
  },
  {
   "cell_type": "markdown",
   "id": "5f5b76c0",
   "metadata": {},
   "source": [
    "# Create Neural Network"
   ]
  },
  {
   "cell_type": "code",
   "execution_count": 7,
   "id": "bca4272a",
   "metadata": {},
   "outputs": [],
   "source": [
    "# Zainicjalizuj model\n",
    "model = SimpleNN(input_size, hidden_size=10, output_size=output_size)\n"
   ]
  },
  {
   "cell_type": "code",
   "execution_count": 8,
   "id": "7b55dc85",
   "metadata": {},
   "outputs": [
    {
     "name": "stdout",
     "output_type": "stream",
     "text": [
      "model.1.weight dtype: torch.float64\n",
      "model.1.bias dtype: torch.float64\n",
      "model.3.weight dtype: torch.float64\n",
      "model.3.bias dtype: torch.float64\n"
     ]
    }
   ],
   "source": [
    "\n",
    "for name, param in model.named_parameters():\n",
    "    print(f\"{name} dtype: {param.dtype}\")\n"
   ]
  },
  {
   "cell_type": "markdown",
   "id": "cb034389",
   "metadata": {},
   "source": [
    "# Train"
   ]
  },
  {
   "cell_type": "code",
   "execution_count": 9,
   "id": "30693b17",
   "metadata": {},
   "outputs": [],
   "source": [
    "epochs = 20 \n",
    "learning_rate = 0.001"
   ]
  },
  {
   "cell_type": "code",
   "execution_count": 10,
   "id": "ed5036a6",
   "metadata": {},
   "outputs": [
    {
     "name": "stdout",
     "output_type": "stream",
     "text": [
      "Average Loss: 2.3301\n",
      "Average Loss: 2.3301\n",
      "Average Loss: 2.3301\n",
      "Average Loss: 2.3301\n",
      "Average Loss: 2.3301\n",
      "Average Loss: 2.3301\n",
      "Average Loss: 2.3301\n",
      "Average Loss: 2.3301\n",
      "Average Loss: 2.3301\n",
      "Average Loss: 2.3301\n",
      "Average Loss: 2.3301\n",
      "Average Loss: 2.3301\n",
      "Average Loss: 2.3301\n",
      "Average Loss: 2.3301\n",
      "Average Loss: 2.3301\n",
      "Average Loss: 2.3301\n",
      "Average Loss: 2.3301\n",
      "Average Loss: 2.3301\n",
      "Average Loss: 2.3301\n",
      "Average Loss: 2.3301\n",
      "Average Loss: 9.7488\n",
      "Average Loss: 9.1555\n",
      "Generacja 1: Najlepszy fitness = -2.3301\n",
      "Average Loss: 2.3301\n",
      "Average Loss: 2.3301\n",
      "Average Loss: 2.3301\n",
      "Average Loss: 2.3301\n",
      "Average Loss: 2.3301\n",
      "Average Loss: 2.3301\n",
      "Average Loss: 2.3301\n",
      "Average Loss: 2.3301\n",
      "Average Loss: 2.3301\n",
      "Average Loss: 2.3301\n",
      "Average Loss: 2.3301\n",
      "Average Loss: 2.3301\n",
      "Average Loss: 2.3301\n",
      "Average Loss: 2.3301\n",
      "Average Loss: 2.3301\n",
      "Average Loss: 2.3301\n",
      "Average Loss: 2.3301\n",
      "Average Loss: 2.3301\n",
      "Average Loss: 2.3301\n",
      "Average Loss: 2.3301\n",
      "Average Loss: 7.7720\n",
      "Average Loss: 8.2144\n",
      "Generacja 2: Najlepszy fitness = -2.3301\n",
      "Average Loss: 2.3301\n",
      "Average Loss: 2.3301\n",
      "Average Loss: 2.3301\n",
      "Average Loss: 2.3301\n",
      "Average Loss: 2.3301\n",
      "Average Loss: 2.3301\n",
      "Average Loss: 2.3301\n",
      "Average Loss: 2.3301\n",
      "Average Loss: 2.3301\n",
      "Average Loss: 2.3301\n",
      "Average Loss: 2.3301\n",
      "Average Loss: 2.3301\n",
      "Average Loss: 2.3301\n",
      "Average Loss: 2.3301\n",
      "Average Loss: 2.3301\n",
      "Average Loss: 2.3301\n",
      "Average Loss: 2.3301\n",
      "Average Loss: 2.3301\n",
      "Average Loss: 2.3301\n",
      "Average Loss: 2.3301\n",
      "Average Loss: 10.6782\n",
      "Average Loss: 8.4172\n",
      "Generacja 3: Najlepszy fitness = -2.3301\n",
      "Epoch 1/10, Validation Accuracy: 0.1177\n",
      "Average Loss: 2.3301\n",
      "Average Loss: 2.3301\n",
      "Average Loss: 2.3301\n",
      "Average Loss: 2.3301\n",
      "Average Loss: 2.3301\n",
      "Average Loss: 2.3301\n",
      "Average Loss: 2.3301\n",
      "Average Loss: 2.3301\n"
     ]
    },
    {
     "ename": "KeyboardInterrupt",
     "evalue": "",
     "output_type": "error",
     "traceback": [
      "\u001b[31m---------------------------------------------------------------------------\u001b[39m",
      "\u001b[31mKeyboardInterrupt\u001b[39m                         Traceback (most recent call last)",
      "\u001b[36mCell\u001b[39m\u001b[36m \u001b[39m\u001b[32mIn[10]\u001b[39m\u001b[32m, line 1\u001b[39m\n\u001b[32m----> \u001b[39m\u001b[32m1\u001b[39m \u001b[43mtrain_es\u001b[49m\u001b[43m(\u001b[49m\u001b[43mmodel\u001b[49m\u001b[43m,\u001b[49m\u001b[43m \u001b[49m\u001b[43mtrain_loader\u001b[49m\u001b[43m,\u001b[49m\u001b[43m \u001b[49m\u001b[43mvalid_loader\u001b[49m\u001b[43m,\u001b[49m\u001b[43m \u001b[49m\u001b[43mdevice\u001b[49m\u001b[43m=\u001b[49m\u001b[33;43m'\u001b[39;49m\u001b[33;43mcpu\u001b[39;49m\u001b[33;43m'\u001b[39;49m\u001b[43m,\u001b[49m\u001b[43m \u001b[49m\u001b[43mpop_size\u001b[49m\u001b[43m=\u001b[49m\u001b[32;43m5\u001b[39;49m\u001b[43m,\u001b[49m\u001b[43m \u001b[49m\u001b[43msigma\u001b[49m\u001b[43m=\u001b[49m\u001b[32;43m0.1\u001b[39;49m\u001b[43m,\u001b[49m\u001b[43m \u001b[49m\u001b[43mlearning_rate\u001b[49m\u001b[43m=\u001b[49m\u001b[32;43m0.03\u001b[39;49m\u001b[43m,\u001b[49m\u001b[43m \u001b[49m\u001b[43mgenerations\u001b[49m\u001b[43m=\u001b[49m\u001b[32;43m3\u001b[39;49m\u001b[43m)\u001b[49m\n",
      "\u001b[36mFile \u001b[39m\u001b[32m~/Desktop/mini/sem1/EvolutionaryGradient/models/es.py:136\u001b[39m, in \u001b[36mtrain_es\u001b[39m\u001b[34m(model, train_loader, valid_loader, device, pop_size, sigma, learning_rate, epochs, generations)\u001b[39m\n\u001b[32m    132\u001b[39m es = EvolutionStrategy(mu=\u001b[32m12\u001b[39m, rho=\u001b[32m2\u001b[39m, lambda_=\u001b[32m2\u001b[39m, fitness_func=fitness_func, generations=generations)\n\u001b[32m    134\u001b[39m \u001b[38;5;28;01mfor\u001b[39;00m epoch \u001b[38;5;129;01min\u001b[39;00m \u001b[38;5;28mrange\u001b[39m(epochs):\n\u001b[32m    135\u001b[39m     \u001b[38;5;66;03m# Ewolucja wag\u001b[39;00m\n\u001b[32m--> \u001b[39m\u001b[32m136\u001b[39m     weights = \u001b[43mes\u001b[49m\u001b[43m.\u001b[49m\u001b[43mevolve\u001b[49m\u001b[43m(\u001b[49m\u001b[43mweights\u001b[49m\u001b[43m)\u001b[49m\n\u001b[32m    138\u001b[39m     \u001b[38;5;66;03m# Ustawienie zoptymalizowanych wag w modelu\u001b[39;00m\n\u001b[32m    139\u001b[39m     set_model_weights(model, weights)\n",
      "\u001b[36mFile \u001b[39m\u001b[32m~/Desktop/mini/sem1/EvolutionaryGradient/models/es.py:52\u001b[39m, in \u001b[36mEvolutionStrategy.evolve\u001b[39m\u001b[34m(self, initial_weights)\u001b[39m\n\u001b[32m     50\u001b[39m \u001b[38;5;66;03m# Ocena fitness\u001b[39;00m\n\u001b[32m     51\u001b[39m combined_population = population + offspring\n\u001b[32m---> \u001b[39m\u001b[32m52\u001b[39m fitness_scores = [\u001b[38;5;28;43mself\u001b[39;49m\u001b[43m.\u001b[49m\u001b[43mfitness_func\u001b[49m\u001b[43m(\u001b[49m\u001b[43mind\u001b[49m\u001b[43m[\u001b[49m\u001b[32;43m0\u001b[39;49m\u001b[43m]\u001b[49m\u001b[43m)\u001b[49m \u001b[38;5;28;01mfor\u001b[39;00m ind \u001b[38;5;129;01min\u001b[39;00m combined_population]\n\u001b[32m     54\u001b[39m \u001b[38;5;66;03m# Selekcja (μ + λ): wybór najlepszych μ osobników\u001b[39;00m\n\u001b[32m     55\u001b[39m sorted_indices = np.argsort(fitness_scores)[::-\u001b[32m1\u001b[39m]  \u001b[38;5;66;03m# malejąco\u001b[39;00m\n",
      "\u001b[36mFile \u001b[39m\u001b[32m~/Desktop/mini/sem1/EvolutionaryGradient/models/es.py:120\u001b[39m, in \u001b[36mtrain_es.<locals>.fitness_func\u001b[39m\u001b[34m(weights)\u001b[39m\n\u001b[32m    117\u001b[39m criterion = nn.CrossEntropyLoss()\n\u001b[32m    119\u001b[39m \u001b[38;5;28;01mwith\u001b[39;00m torch.no_grad():\n\u001b[32m--> \u001b[39m\u001b[32m120\u001b[39m \u001b[43m    \u001b[49m\u001b[38;5;28;43;01mfor\u001b[39;49;00m\u001b[43m \u001b[49m\u001b[43mi\u001b[49m\u001b[43m,\u001b[49m\u001b[43m \u001b[49m\u001b[43m(\u001b[49m\u001b[43minputs\u001b[49m\u001b[43m,\u001b[49m\u001b[43m \u001b[49m\u001b[43mtargets\u001b[49m\u001b[43m)\u001b[49m\u001b[43m \u001b[49m\u001b[38;5;129;43;01min\u001b[39;49;00m\u001b[43m \u001b[49m\u001b[38;5;28;43menumerate\u001b[39;49m\u001b[43m(\u001b[49m\u001b[43mtrain_loader\u001b[49m\u001b[43m)\u001b[49m\u001b[43m:\u001b[49m\n\u001b[32m    121\u001b[39m \u001b[43m        \u001b[49m\u001b[43minputs\u001b[49m\u001b[43m,\u001b[49m\u001b[43m \u001b[49m\u001b[43mtargets\u001b[49m\u001b[43m \u001b[49m\u001b[43m=\u001b[49m\u001b[43m \u001b[49m\u001b[43minputs\u001b[49m\u001b[43m.\u001b[49m\u001b[43mto\u001b[49m\u001b[43m(\u001b[49m\u001b[43mdevice\u001b[49m\u001b[43m,\u001b[49m\u001b[43m \u001b[49m\u001b[43mdtype\u001b[49m\u001b[43m=\u001b[49m\u001b[43mtorch\u001b[49m\u001b[43m.\u001b[49m\u001b[43mfloat64\u001b[49m\u001b[43m)\u001b[49m\u001b[43m,\u001b[49m\u001b[43m \u001b[49m\u001b[43mtargets\u001b[49m\u001b[43m.\u001b[49m\u001b[43mto\u001b[49m\u001b[43m(\u001b[49m\u001b[43mdevice\u001b[49m\u001b[43m)\u001b[49m\n\u001b[32m    122\u001b[39m \u001b[43m        \u001b[49m\u001b[43moutputs\u001b[49m\u001b[43m \u001b[49m\u001b[43m=\u001b[49m\u001b[43m \u001b[49m\u001b[43mmodel\u001b[49m\u001b[43m(\u001b[49m\u001b[43minputs\u001b[49m\u001b[43m)\u001b[49m\n",
      "\u001b[36mFile \u001b[39m\u001b[32m~/Desktop/mini/sem1/EvolutionaryGradient/venv/lib/python3.12/site-packages/torch/utils/data/dataloader.py:733\u001b[39m, in \u001b[36m_BaseDataLoaderIter.__next__\u001b[39m\u001b[34m(self)\u001b[39m\n\u001b[32m    730\u001b[39m \u001b[38;5;28;01mif\u001b[39;00m \u001b[38;5;28mself\u001b[39m._sampler_iter \u001b[38;5;129;01mis\u001b[39;00m \u001b[38;5;28;01mNone\u001b[39;00m:\n\u001b[32m    731\u001b[39m     \u001b[38;5;66;03m# TODO(https://github.com/pytorch/pytorch/issues/76750)\u001b[39;00m\n\u001b[32m    732\u001b[39m     \u001b[38;5;28mself\u001b[39m._reset()  \u001b[38;5;66;03m# type: ignore[call-arg]\u001b[39;00m\n\u001b[32m--> \u001b[39m\u001b[32m733\u001b[39m data = \u001b[38;5;28;43mself\u001b[39;49m\u001b[43m.\u001b[49m\u001b[43m_next_data\u001b[49m\u001b[43m(\u001b[49m\u001b[43m)\u001b[49m\n\u001b[32m    734\u001b[39m \u001b[38;5;28mself\u001b[39m._num_yielded += \u001b[32m1\u001b[39m\n\u001b[32m    735\u001b[39m \u001b[38;5;28;01mif\u001b[39;00m (\n\u001b[32m    736\u001b[39m     \u001b[38;5;28mself\u001b[39m._dataset_kind == _DatasetKind.Iterable\n\u001b[32m    737\u001b[39m     \u001b[38;5;129;01mand\u001b[39;00m \u001b[38;5;28mself\u001b[39m._IterableDataset_len_called \u001b[38;5;129;01mis\u001b[39;00m \u001b[38;5;129;01mnot\u001b[39;00m \u001b[38;5;28;01mNone\u001b[39;00m\n\u001b[32m    738\u001b[39m     \u001b[38;5;129;01mand\u001b[39;00m \u001b[38;5;28mself\u001b[39m._num_yielded > \u001b[38;5;28mself\u001b[39m._IterableDataset_len_called\n\u001b[32m    739\u001b[39m ):\n",
      "\u001b[36mFile \u001b[39m\u001b[32m~/Desktop/mini/sem1/EvolutionaryGradient/venv/lib/python3.12/site-packages/torch/utils/data/dataloader.py:789\u001b[39m, in \u001b[36m_SingleProcessDataLoaderIter._next_data\u001b[39m\u001b[34m(self)\u001b[39m\n\u001b[32m    787\u001b[39m \u001b[38;5;28;01mdef\u001b[39;00m\u001b[38;5;250m \u001b[39m\u001b[34m_next_data\u001b[39m(\u001b[38;5;28mself\u001b[39m):\n\u001b[32m    788\u001b[39m     index = \u001b[38;5;28mself\u001b[39m._next_index()  \u001b[38;5;66;03m# may raise StopIteration\u001b[39;00m\n\u001b[32m--> \u001b[39m\u001b[32m789\u001b[39m     data = \u001b[38;5;28;43mself\u001b[39;49m\u001b[43m.\u001b[49m\u001b[43m_dataset_fetcher\u001b[49m\u001b[43m.\u001b[49m\u001b[43mfetch\u001b[49m\u001b[43m(\u001b[49m\u001b[43mindex\u001b[49m\u001b[43m)\u001b[49m  \u001b[38;5;66;03m# may raise StopIteration\u001b[39;00m\n\u001b[32m    790\u001b[39m     \u001b[38;5;28;01mif\u001b[39;00m \u001b[38;5;28mself\u001b[39m._pin_memory:\n\u001b[32m    791\u001b[39m         data = _utils.pin_memory.pin_memory(data, \u001b[38;5;28mself\u001b[39m._pin_memory_device)\n",
      "\u001b[36mFile \u001b[39m\u001b[32m~/Desktop/mini/sem1/EvolutionaryGradient/venv/lib/python3.12/site-packages/torch/utils/data/_utils/fetch.py:50\u001b[39m, in \u001b[36m_MapDatasetFetcher.fetch\u001b[39m\u001b[34m(self, possibly_batched_index)\u001b[39m\n\u001b[32m     48\u001b[39m \u001b[38;5;28;01mif\u001b[39;00m \u001b[38;5;28mself\u001b[39m.auto_collation:\n\u001b[32m     49\u001b[39m     \u001b[38;5;28;01mif\u001b[39;00m \u001b[38;5;28mhasattr\u001b[39m(\u001b[38;5;28mself\u001b[39m.dataset, \u001b[33m\"\u001b[39m\u001b[33m__getitems__\u001b[39m\u001b[33m\"\u001b[39m) \u001b[38;5;129;01mand\u001b[39;00m \u001b[38;5;28mself\u001b[39m.dataset.__getitems__:\n\u001b[32m---> \u001b[39m\u001b[32m50\u001b[39m         data = \u001b[38;5;28;43mself\u001b[39;49m\u001b[43m.\u001b[49m\u001b[43mdataset\u001b[49m\u001b[43m.\u001b[49m\u001b[43m__getitems__\u001b[49m\u001b[43m(\u001b[49m\u001b[43mpossibly_batched_index\u001b[49m\u001b[43m)\u001b[49m\n\u001b[32m     51\u001b[39m     \u001b[38;5;28;01melse\u001b[39;00m:\n\u001b[32m     52\u001b[39m         data = [\u001b[38;5;28mself\u001b[39m.dataset[idx] \u001b[38;5;28;01mfor\u001b[39;00m idx \u001b[38;5;129;01min\u001b[39;00m possibly_batched_index]\n",
      "\u001b[36mFile \u001b[39m\u001b[32m~/Desktop/mini/sem1/EvolutionaryGradient/venv/lib/python3.12/site-packages/torch/utils/data/dataset.py:416\u001b[39m, in \u001b[36mSubset.__getitems__\u001b[39m\u001b[34m(self, indices)\u001b[39m\n\u001b[32m    414\u001b[39m     \u001b[38;5;28;01mreturn\u001b[39;00m \u001b[38;5;28mself\u001b[39m.dataset.__getitems__([\u001b[38;5;28mself\u001b[39m.indices[idx] \u001b[38;5;28;01mfor\u001b[39;00m idx \u001b[38;5;129;01min\u001b[39;00m indices])  \u001b[38;5;66;03m# type: ignore[attr-defined]\u001b[39;00m\n\u001b[32m    415\u001b[39m \u001b[38;5;28;01melse\u001b[39;00m:\n\u001b[32m--> \u001b[39m\u001b[32m416\u001b[39m     \u001b[38;5;28;01mreturn\u001b[39;00m [\u001b[38;5;28;43mself\u001b[39;49m\u001b[43m.\u001b[49m\u001b[43mdataset\u001b[49m\u001b[43m[\u001b[49m\u001b[38;5;28;43mself\u001b[39;49m\u001b[43m.\u001b[49m\u001b[43mindices\u001b[49m\u001b[43m[\u001b[49m\u001b[43midx\u001b[49m\u001b[43m]\u001b[49m\u001b[43m]\u001b[49m \u001b[38;5;28;01mfor\u001b[39;00m idx \u001b[38;5;129;01min\u001b[39;00m indices]\n",
      "\u001b[36mFile \u001b[39m\u001b[32m~/Desktop/mini/sem1/EvolutionaryGradient/venv/lib/python3.12/site-packages/torchvision/datasets/mnist.py:143\u001b[39m, in \u001b[36mMNIST.__getitem__\u001b[39m\u001b[34m(self, index)\u001b[39m\n\u001b[32m    139\u001b[39m img, target = \u001b[38;5;28mself\u001b[39m.data[index], \u001b[38;5;28mint\u001b[39m(\u001b[38;5;28mself\u001b[39m.targets[index])\n\u001b[32m    141\u001b[39m \u001b[38;5;66;03m# doing this so that it is consistent with all other datasets\u001b[39;00m\n\u001b[32m    142\u001b[39m \u001b[38;5;66;03m# to return a PIL Image\u001b[39;00m\n\u001b[32m--> \u001b[39m\u001b[32m143\u001b[39m img = Image.fromarray(\u001b[43mimg\u001b[49m\u001b[43m.\u001b[49m\u001b[43mnumpy\u001b[49m\u001b[43m(\u001b[49m\u001b[43m)\u001b[49m, mode=\u001b[33m\"\u001b[39m\u001b[33mL\u001b[39m\u001b[33m\"\u001b[39m)\n\u001b[32m    145\u001b[39m \u001b[38;5;28;01mif\u001b[39;00m \u001b[38;5;28mself\u001b[39m.transform \u001b[38;5;129;01mis\u001b[39;00m \u001b[38;5;129;01mnot\u001b[39;00m \u001b[38;5;28;01mNone\u001b[39;00m:\n\u001b[32m    146\u001b[39m     img = \u001b[38;5;28mself\u001b[39m.transform(img)\n",
      "\u001b[31mKeyboardInterrupt\u001b[39m: "
     ]
    }
   ],
   "source": [
    "train_es(model, train_loader, valid_loader, device='cpu', pop_size=5, sigma=0.1, learning_rate=0.03, generations=3)"
   ]
  },
  {
   "cell_type": "code",
   "execution_count": null,
   "id": "69a2362c",
   "metadata": {},
   "outputs": [
    {
     "name": "stderr",
     "output_type": "stream",
     "text": [
      "Epoch 1/20: 100%|██████████| 844/844 [00:02<00:00, 329.39batch/s, Loss=2.2645, Accuracy=18.77%]\n"
     ]
    },
    {
     "name": "stdout",
     "output_type": "stream",
     "text": [
      "Epoch 1 completed. Training Loss: 2.2645, Training Accuracy: 18.77%\n",
      "Validation Loss: 1.9108, Validation Accuracy: 30.30%\n",
      "\n"
     ]
    },
    {
     "name": "stderr",
     "output_type": "stream",
     "text": [
      "Epoch 2/20: 100%|██████████| 844/844 [00:02<00:00, 330.01batch/s, Loss=1.6636, Accuracy=39.01%]\n"
     ]
    },
    {
     "name": "stdout",
     "output_type": "stream",
     "text": [
      "Epoch 2 completed. Training Loss: 1.6636, Training Accuracy: 39.01%\n",
      "Validation Loss: 1.4535, Validation Accuracy: 46.88%\n",
      "\n"
     ]
    },
    {
     "name": "stderr",
     "output_type": "stream",
     "text": [
      "Epoch 3/20: 100%|██████████| 844/844 [00:02<00:00, 320.35batch/s, Loss=1.3345, Accuracy=50.40%]\n"
     ]
    },
    {
     "name": "stdout",
     "output_type": "stream",
     "text": [
      "Epoch 3 completed. Training Loss: 1.3345, Training Accuracy: 50.40%\n",
      "Validation Loss: 1.2113, Validation Accuracy: 57.35%\n",
      "\n"
     ]
    },
    {
     "name": "stderr",
     "output_type": "stream",
     "text": [
      "Epoch 4/20: 100%|██████████| 844/844 [00:02<00:00, 303.32batch/s, Loss=1.0809, Accuracy=61.97%]\n"
     ]
    },
    {
     "name": "stdout",
     "output_type": "stream",
     "text": [
      "Epoch 4 completed. Training Loss: 1.0809, Training Accuracy: 61.97%\n",
      "Validation Loss: 0.9930, Validation Accuracy: 65.73%\n",
      "\n"
     ]
    },
    {
     "name": "stderr",
     "output_type": "stream",
     "text": [
      "Epoch 5/20: 100%|██████████| 844/844 [00:02<00:00, 325.57batch/s, Loss=0.9156, Accuracy=68.00%]\n"
     ]
    },
    {
     "name": "stdout",
     "output_type": "stream",
     "text": [
      "Epoch 5 completed. Training Loss: 0.9156, Training Accuracy: 68.00%\n",
      "Validation Loss: 0.8645, Validation Accuracy: 70.52%\n",
      "\n"
     ]
    },
    {
     "name": "stderr",
     "output_type": "stream",
     "text": [
      "Epoch 6/20: 100%|██████████| 844/844 [00:02<00:00, 334.25batch/s, Loss=0.7935, Accuracy=72.92%]\n"
     ]
    },
    {
     "name": "stdout",
     "output_type": "stream",
     "text": [
      "Epoch 6 completed. Training Loss: 0.7935, Training Accuracy: 72.92%\n",
      "Validation Loss: 0.7621, Validation Accuracy: 74.83%\n",
      "\n"
     ]
    },
    {
     "name": "stderr",
     "output_type": "stream",
     "text": [
      "Epoch 7/20: 100%|██████████| 844/844 [00:02<00:00, 323.94batch/s, Loss=0.7037, Accuracy=76.48%]\n"
     ]
    },
    {
     "name": "stdout",
     "output_type": "stream",
     "text": [
      "Epoch 7 completed. Training Loss: 0.7037, Training Accuracy: 76.48%\n",
      "Validation Loss: 0.6950, Validation Accuracy: 77.43%\n",
      "\n"
     ]
    },
    {
     "name": "stderr",
     "output_type": "stream",
     "text": [
      "Epoch 8/20: 100%|██████████| 844/844 [00:02<00:00, 336.41batch/s, Loss=0.6354, Accuracy=79.56%]\n"
     ]
    },
    {
     "name": "stdout",
     "output_type": "stream",
     "text": [
      "Epoch 8 completed. Training Loss: 0.6354, Training Accuracy: 79.56%\n",
      "Validation Loss: 0.6352, Validation Accuracy: 81.18%\n",
      "\n"
     ]
    },
    {
     "name": "stderr",
     "output_type": "stream",
     "text": [
      "Epoch 9/20: 100%|██████████| 844/844 [00:02<00:00, 341.67batch/s, Loss=0.5720, Accuracy=82.49%]\n"
     ]
    },
    {
     "name": "stdout",
     "output_type": "stream",
     "text": [
      "Epoch 9 completed. Training Loss: 0.5720, Training Accuracy: 82.49%\n",
      "Validation Loss: 0.5742, Validation Accuracy: 82.85%\n",
      "\n"
     ]
    },
    {
     "name": "stderr",
     "output_type": "stream",
     "text": [
      "Epoch 10/20: 100%|██████████| 844/844 [00:02<00:00, 334.78batch/s, Loss=0.5309, Accuracy=83.94%]\n"
     ]
    },
    {
     "name": "stdout",
     "output_type": "stream",
     "text": [
      "Epoch 10 completed. Training Loss: 0.5309, Training Accuracy: 83.94%\n",
      "Validation Loss: 0.5435, Validation Accuracy: 83.85%\n",
      "\n"
     ]
    },
    {
     "name": "stderr",
     "output_type": "stream",
     "text": [
      "Epoch 11/20: 100%|██████████| 844/844 [00:02<00:00, 339.63batch/s, Loss=0.5027, Accuracy=84.79%]\n"
     ]
    },
    {
     "name": "stdout",
     "output_type": "stream",
     "text": [
      "Epoch 11 completed. Training Loss: 0.5027, Training Accuracy: 84.79%\n",
      "Validation Loss: 0.5201, Validation Accuracy: 84.63%\n",
      "\n"
     ]
    },
    {
     "name": "stderr",
     "output_type": "stream",
     "text": [
      "Epoch 12/20: 100%|██████████| 844/844 [00:02<00:00, 344.05batch/s, Loss=0.4827, Accuracy=85.39%]\n"
     ]
    },
    {
     "name": "stdout",
     "output_type": "stream",
     "text": [
      "Epoch 12 completed. Training Loss: 0.4827, Training Accuracy: 85.39%\n",
      "Validation Loss: 0.5111, Validation Accuracy: 85.10%\n",
      "\n"
     ]
    },
    {
     "name": "stderr",
     "output_type": "stream",
     "text": [
      "Epoch 13/20: 100%|██████████| 844/844 [00:02<00:00, 339.05batch/s, Loss=0.4676, Accuracy=86.05%]\n"
     ]
    },
    {
     "name": "stdout",
     "output_type": "stream",
     "text": [
      "Epoch 13 completed. Training Loss: 0.4676, Training Accuracy: 86.05%\n",
      "Validation Loss: 0.4877, Validation Accuracy: 85.47%\n",
      "\n"
     ]
    },
    {
     "name": "stderr",
     "output_type": "stream",
     "text": [
      "Epoch 14/20: 100%|██████████| 844/844 [00:02<00:00, 315.99batch/s, Loss=0.4540, Accuracy=86.46%]\n"
     ]
    },
    {
     "name": "stdout",
     "output_type": "stream",
     "text": [
      "Epoch 14 completed. Training Loss: 0.4540, Training Accuracy: 86.46%\n",
      "Validation Loss: 0.4785, Validation Accuracy: 85.58%\n",
      "\n"
     ]
    },
    {
     "name": "stderr",
     "output_type": "stream",
     "text": [
      "Epoch 15/20: 100%|██████████| 844/844 [00:02<00:00, 340.47batch/s, Loss=0.4409, Accuracy=86.99%]\n"
     ]
    },
    {
     "name": "stdout",
     "output_type": "stream",
     "text": [
      "Epoch 15 completed. Training Loss: 0.4409, Training Accuracy: 86.99%\n",
      "Validation Loss: 0.4729, Validation Accuracy: 86.42%\n",
      "\n"
     ]
    },
    {
     "name": "stderr",
     "output_type": "stream",
     "text": [
      "Epoch 16/20: 100%|██████████| 844/844 [00:02<00:00, 331.54batch/s, Loss=0.4289, Accuracy=87.20%]\n"
     ]
    },
    {
     "name": "stdout",
     "output_type": "stream",
     "text": [
      "Epoch 16 completed. Training Loss: 0.4289, Training Accuracy: 87.20%\n",
      "Validation Loss: 0.4574, Validation Accuracy: 86.92%\n",
      "\n"
     ]
    },
    {
     "name": "stderr",
     "output_type": "stream",
     "text": [
      "Epoch 17/20: 100%|██████████| 844/844 [00:02<00:00, 309.24batch/s, Loss=0.4156, Accuracy=87.84%]\n"
     ]
    },
    {
     "name": "stdout",
     "output_type": "stream",
     "text": [
      "Epoch 17 completed. Training Loss: 0.4156, Training Accuracy: 87.84%\n",
      "Validation Loss: 0.4430, Validation Accuracy: 86.80%\n",
      "\n"
     ]
    },
    {
     "name": "stderr",
     "output_type": "stream",
     "text": [
      "Epoch 18/20: 100%|██████████| 844/844 [00:02<00:00, 328.72batch/s, Loss=0.4050, Accuracy=88.19%]\n"
     ]
    },
    {
     "name": "stdout",
     "output_type": "stream",
     "text": [
      "Epoch 18 completed. Training Loss: 0.4050, Training Accuracy: 88.19%\n",
      "Validation Loss: 0.4339, Validation Accuracy: 87.38%\n",
      "\n"
     ]
    },
    {
     "name": "stderr",
     "output_type": "stream",
     "text": [
      "Epoch 19/20: 100%|██████████| 844/844 [00:02<00:00, 319.66batch/s, Loss=0.3949, Accuracy=88.43%]\n"
     ]
    },
    {
     "name": "stdout",
     "output_type": "stream",
     "text": [
      "Epoch 19 completed. Training Loss: 0.3949, Training Accuracy: 88.43%\n",
      "Validation Loss: 0.4259, Validation Accuracy: 87.65%\n",
      "\n"
     ]
    },
    {
     "name": "stderr",
     "output_type": "stream",
     "text": [
      "Epoch 20/20: 100%|██████████| 844/844 [00:02<00:00, 334.43batch/s, Loss=0.3848, Accuracy=88.70%]\n"
     ]
    },
    {
     "name": "stdout",
     "output_type": "stream",
     "text": [
      "Epoch 20 completed. Training Loss: 0.3848, Training Accuracy: 88.70%\n",
      "Validation Loss: 0.4171, Validation Accuracy: 87.63%\n",
      "\n"
     ]
    }
   ],
   "source": [
    "# Wybierz i uruchom metodę treningu\n",
    "train_with_adam(model, train_loader, valid_loader, epochs, learning_rate, device='cpu')\n"
   ]
  },
  {
   "cell_type": "code",
   "execution_count": null,
   "id": "ac801307",
   "metadata": {},
   "outputs": [],
   "source": []
  },
  {
   "cell_type": "markdown",
   "id": "583eba10",
   "metadata": {},
   "source": [
    "# Evaluation"
   ]
  },
  {
   "cell_type": "code",
   "execution_count": null,
   "id": "05914a31",
   "metadata": {},
   "outputs": [
    {
     "name": "stdout",
     "output_type": "stream",
     "text": [
      "Dokładność: {'accuracy': 0.1048, 'precision': 0.08418569892064205, 'recall': 0.10550365849939274, 'f1_score': 0.07239462892877643}%\n"
     ]
    }
   ],
   "source": [
    "# Ewaluacja\n",
    "accuracy = evaluate_model(model, test_loader)\n",
    "print(f\"Dokładność: {accuracy}%\")"
   ]
  },
  {
   "cell_type": "markdown",
   "id": "622f29b1",
   "metadata": {},
   "source": []
  }
 ],
 "metadata": {
  "kernelspec": {
   "display_name": "venv",
   "language": "python",
   "name": "python3"
  },
  "language_info": {
   "codemirror_mode": {
    "name": "ipython",
    "version": 3
   },
   "file_extension": ".py",
   "mimetype": "text/x-python",
   "name": "python",
   "nbconvert_exporter": "python",
   "pygments_lexer": "ipython3",
   "version": "3.12.7"
  }
 },
 "nbformat": 4,
 "nbformat_minor": 5
}
