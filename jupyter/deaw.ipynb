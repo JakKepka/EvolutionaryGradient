{
  "nbformat": 4,
  "nbformat_minor": 0,
  "metadata": {
    "colab": {
      "provenance": [],
      "gpuType": "T4"
    },
    "kernelspec": {
      "name": "python3",
      "display_name": "Python 3"
    },
    "language_info": {
      "name": "python"
    },
    "accelerator": "GPU"
  },
  "cells": [
    {
      "cell_type": "code",
      "execution_count": 1,
      "metadata": {
        "id": "xjrbqhCvvMTI"
      },
      "outputs": [],
      "source": [
        "import torch\n",
        "import torch.nn as nn\n",
        "import torch.optim as optim\n",
        "from torch.utils.data import DataLoader, TensorDataset\n",
        "import numpy as np\n",
        "from sklearn.datasets import load_iris\n",
        "from sklearn.model_selection import train_test_split\n",
        "\n",
        "# Załaduj zbiór danych Iris\n",
        "iris = load_iris()\n",
        "X = iris.data\n",
        "y = iris.target\n",
        "X_train, X_test, y_train, y_test = train_test_split(X, y, test_size=0.2, random_state=42)\n",
        "X_train = torch.tensor(X_train, dtype=torch.float32)\n",
        "y_train = torch.tensor(y_train, dtype=torch.long)\n",
        "X_test = torch.tensor(X_test, dtype=torch.float32)\n",
        "y_test = torch.tensor(y_test, dtype=torch.long)\n",
        "train_dataset = TensorDataset(X_train, y_train)\n",
        "train_loader = DataLoader(train_dataset, batch_size=32, shuffle=True)\n",
        "\n",
        "# Definicja sieci neuronowej\n",
        "class MLP(nn.Module):\n",
        "    def __init__(self, input_size=4, hidden_size=10, output_size=3):\n",
        "        super(MLP, self).__init__()\n",
        "        self.fc1 = nn.Linear(input_size, hidden_size)\n",
        "        self.fc2 = nn.Linear(hidden_size, output_size)\n",
        "\n",
        "    def forward(self, x):\n",
        "        x = torch.relu(self.fc1(x))\n",
        "        x = self.fc2(x)\n",
        "        return x\n",
        "\n",
        "# Funkcja oceny (fitness)\n",
        "def fitness(weights, model, train_loader, device):\n",
        "    idx = 0\n",
        "    for param in model.parameters():\n",
        "        numel = param.numel()\n",
        "        param.data = weights[idx:idx+numel].view(param.size()).to(device)\n",
        "        idx += numel\n",
        "    model.eval()\n",
        "    total_loss = 0\n",
        "    with torch.no_grad():\n",
        "        for inputs, labels in train_loader:\n",
        "            inputs, labels = inputs.to(device), labels.to(device)\n",
        "            outputs = model(inputs)\n",
        "            loss = nn.CrossEntropyLoss()(outputs, labels)\n",
        "            total_loss += loss.item() * inputs.size(0)\n",
        "    return total_loss / len(train_loader.dataset)\n",
        "\n",
        "# Algorytm DEAW\n",
        "def train_deaw(model, train_loader, device, NP=50, F=0.5, CR=0.9, max_generations=100, initial_lower=-1.0, initial_upper=1.0):\n",
        "    num_weights = sum(p.numel() for p in model.parameters())\n",
        "    lower_bounds = np.full(num_weights, initial_lower)\n",
        "    upper_bounds = np.full(num_weights, initial_upper)\n",
        "    population = np.random.uniform(initial_lower, initial_upper, (NP, num_weights))\n",
        "    fitnesses = np.array([fitness(torch.tensor(p, dtype=torch.float32), model, train_loader, device) for p in population])\n",
        "\n",
        "    for generation in range(max_generations):\n",
        "        for i in range(NP):\n",
        "            candidates = [j for j in range(NP) if j != i]\n",
        "            a, b, c = np.random.choice(candidates, 3, replace=False)\n",
        "            v = population[a] + F * (population[b] - population[c])\n",
        "\n",
        "            for j in range(num_weights):\n",
        "                if v[j] < lower_bounds[j]:\n",
        "                    lower_bounds[j] *= 2\n",
        "                    v[j] = lower_bounds[j]\n",
        "                elif v[j] > upper_bounds[j]:\n",
        "                    upper_bounds[j] *= 2\n",
        "                    v[j] = upper_bounds[j]\n",
        "\n",
        "            u = np.copy(population[i])\n",
        "            j_rand = np.random.randint(0, num_weights)\n",
        "            for j in range(num_weights):\n",
        "                if np.random.rand() < CR or j == j_rand:\n",
        "                    u[j] = v[j]\n",
        "\n",
        "            u_tensor = torch.tensor(u, dtype=torch.float32)\n",
        "            loss_u = fitness(u_tensor, model, train_loader, device)\n",
        "\n",
        "            if loss_u < fitnesses[i]:\n",
        "                population[i] = u.copy()\n",
        "                fitnesses[i] = loss_u\n",
        "\n",
        "    best_idx = np.argmin(fitnesses)\n",
        "    best_weights = torch.tensor(population[best_idx], dtype=torch.float32)\n",
        "    idx = 0\n",
        "    for param in model.parameters():\n",
        "        numel = param.numel()\n",
        "        param.data = best_weights[idx:idx+numel].view(param.size()).to(device)\n",
        "        idx += numel\n",
        "\n",
        "# Użycie\n",
        "device = torch.device(\"cuda\" if torch.cuda.is_available() else \"cpu\")\n",
        "model = MLP().to(device)\n",
        "train_deaw(model, train_loader, device)"
      ]
    },
    {
      "cell_type": "code",
      "source": [
        "def evaluate_model(model, test_loader, device):\n",
        "    model.eval()\n",
        "    correct = 0\n",
        "    total = 0\n",
        "    with torch.no_grad():\n",
        "        for inputs, labels in test_loader:\n",
        "            inputs, labels = inputs.to(device), labels.to(device)\n",
        "            outputs = model(inputs)\n",
        "            _, predicted = torch.max(outputs.data, 1)\n",
        "            total += labels.size(0)\n",
        "            correct += (predicted == labels).sum().item()\n",
        "    return 100 * correct / total\n",
        "\n",
        "test_dataset = TensorDataset(X_test, y_test)\n",
        "test_loader = DataLoader(test_dataset, batch_size=32, shuffle=False)\n",
        "accuracy = evaluate_model(model, test_loader, device)\n",
        "print(f\"Dokładność na zbiorze testowym: {accuracy:.2f}%\")"
      ],
      "metadata": {
        "colab": {
          "base_uri": "https://localhost:8080/"
        },
        "id": "TzLjXlh2x0AY",
        "outputId": "79c2a4b1-63d2-449b-9c3b-eebb1bda0e3d"
      },
      "execution_count": 2,
      "outputs": [
        {
          "output_type": "stream",
          "name": "stdout",
          "text": [
            "Dokładność na zbiorze testowym: 96.67%\n"
          ]
        }
      ]
    },
    {
      "cell_type": "code",
      "source": [
        "def train_de(model, train_loader, device, NP=50, F=0.5, CR=0.9, max_generations=100, initial_lower=-1.0, initial_upper=1.0):\n",
        "    num_weights = sum(p.numel() for p in model.parameters())\n",
        "    population = np.random.uniform(initial_lower, initial_upper, (NP, num_weights))\n",
        "    fitnesses = np.array([fitness(torch.tensor(p, dtype=torch.float32), model, train_loader, device) for p in population])\n",
        "\n",
        "    for generation in range(max_generations):\n",
        "        for i in range(NP):\n",
        "            candidates = [j for j in range(NP) if j != i]\n",
        "            a, b, c = np.random.choice(candidates, 3, replace=False)\n",
        "            v = population[a] + F * (population[b] - population[c])\n",
        "\n",
        "            # Stałe ograniczenie: ograniczamy wartości do zakresu\n",
        "            v = np.clip(v, initial_lower, initial_upper)\n",
        "\n",
        "            u = np.copy(population[i])\n",
        "            j_rand = np.random.randint(0, num_weights)\n",
        "            for j in range(num_weights):\n",
        "                if np.random.rand() < CR or j == j_rand:\n",
        "                    u[j] = v[j]\n",
        "\n",
        "            u_tensor = torch.tensor(u, dtype=torch.float32)\n",
        "            loss_u = fitness(u_tensor, model, train_loader, device)\n",
        "\n",
        "            if loss_u < fitnesses[i]:\n",
        "                population[i] = u.copy()\n",
        "                fitnesses[i] = loss_u\n",
        "\n",
        "    best_idx = np.argmin(fitnesses)\n",
        "    best_weights = torch.tensor(population[best_idx], dtype=torch.float32)\n",
        "    idx = 0\n",
        "    for param in model.parameters():\n",
        "        numel = param.numel()\n",
        "        param.data = best_weights[idx:idx+numel].view(param.size()).to(device)\n",
        "        idx += numel\n"
      ],
      "metadata": {
        "id": "KaPDfg5Ux2Gx"
      },
      "execution_count": 3,
      "outputs": []
    },
    {
      "cell_type": "code",
      "source": [
        "model_de = MLP().to(device)\n",
        "train_de(model_de, train_loader, device)\n",
        "accuracy_de = evaluate_model(model_de, test_loader, device)\n",
        "print(f\"[DE] Dokładność na zbiorze testowym: {accuracy_de:.2f}%\")\n"
      ],
      "metadata": {
        "id": "UhavMND098YU",
        "outputId": "19c1d5cc-c7e0-424b-edf3-28b8629d4dc6",
        "colab": {
          "base_uri": "https://localhost:8080/"
        }
      },
      "execution_count": 4,
      "outputs": [
        {
          "output_type": "stream",
          "name": "stdout",
          "text": [
            "[DE] Dokładność na zbiorze testowym: 100.00%\n"
          ]
        }
      ]
    },
    {
      "cell_type": "code",
      "source": [],
      "metadata": {
        "id": "j_s6i_g89_tU"
      },
      "execution_count": null,
      "outputs": []
    }
  ]
}